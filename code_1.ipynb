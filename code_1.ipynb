{
 "cells": [
  {
   "cell_type": "markdown",
   "metadata": {},
   "source": [
    "# k-means クラスタリング分析 (色の特定)\n",
    "- rgb値の距離が近いものは色が似ている→ノルムで考える\n",
    "- rgb空間の3次元空間 = lab空間\n",
    "    - 明度をL*、色相と彩度を示す色度をa*、b\n"
   ]
  },
  {
   "cell_type": "code",
   "execution_count": 9,
   "metadata": {},
   "outputs": [],
   "source": [
    "import numpy as np\n",
    "import cv2\n",
    "import os\n",
    "from sklearn.cluster import KMeans\n",
    "from sklearn import metrics\n",
    "import matplotlib.pyplot as plt\n"
   ]
  },
  {
   "cell_type": "code",
   "execution_count": null,
   "metadata": {},
   "outputs": [],
   "source": [
    "\n",
    "\n",
    "def load_image(image_file):\n",
    "    # cv2 load images as BGR\n",
    "    image_bgr=[cv2.imread(image_file+'/'+i) for i in os.listdir(image_file)]\n",
    "    image_rgb = [cv2.cvtColor(i, cv2.COLOR_BGR2RGB) for i in image_bgr]\n",
    "    image_rgb = [cv2.resize(i, (150, 150)) for i in image_rgb]\n",
    "    return image_rgb\n",
    "\n",
    "\n",
    "img = load_image(\"/Users/maykanda/Desktop/\")\n",
    "img=np.reshape(img, (len(img),150,150,3))\n",
    "hstack=np.hstack(img)\n",
    "plt.imshow(hstack)\n",
    "plt.show()"
   ]
  },
  {
   "cell_type": "markdown",
   "metadata": {},
   "source": [
    "# 主成分分析 (方向、奥行きの特定)"
   ]
  }
 ],
 "metadata": {
  "kernelspec": {
   "display_name": "Python 3",
   "language": "python",
   "name": "python3"
  },
  "language_info": {
   "codemirror_mode": {
    "name": "ipython",
    "version": 3
   },
   "file_extension": ".py",
   "mimetype": "text/x-python",
   "name": "python",
   "nbconvert_exporter": "python",
   "pygments_lexer": "ipython3",
   "version": "3.8.3"
  },
  "toc": {
   "base_numbering": 1,
   "nav_menu": {},
   "number_sections": true,
   "sideBar": true,
   "skip_h1_title": false,
   "title_cell": "Table of Contents",
   "title_sidebar": "Contents",
   "toc_cell": false,
   "toc_position": {},
   "toc_section_display": true,
   "toc_window_display": false
  }
 },
 "nbformat": 4,
 "nbformat_minor": 4
}
